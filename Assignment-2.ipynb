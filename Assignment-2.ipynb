{
 "cells": [
  {
   "cell_type": "markdown",
   "id": "a065a81a-250b-4d24-b877-f154bb447742",
   "metadata": {},
   "source": [
    "**Q1. How do you comment code in Python? What are the different types of comments?**"
   ]
  },
  {
   "cell_type": "markdown",
   "id": "adaad552-3674-4725-b9cf-3b37a2669cf2",
   "metadata": {},
   "source": [
    "In Python, we use the hash symbol ('#') to add comments to your code.\n",
    "\n",
    "There are two types of comments.\n",
    "\n",
    "1. Single line\n",
    "2. Multi line"
   ]
  },
  {
   "cell_type": "markdown",
   "id": "9a40bd40-38d1-4859-b9ba-86d8fb152d2a",
   "metadata": {},
   "source": [
    "**Single line comment**\n",
    "\n",
    "\n",
    "In Single line comments we use the hash character ('#'). Everything after the # on the line is considered a comment.\n",
    "\n",
    "For example:"
   ]
  },
  {
   "cell_type": "code",
   "execution_count": 6,
   "id": "66228b6f-9fe4-4c23-a573-8855e8c59a1d",
   "metadata": {},
   "outputs": [
    {
     "name": "stdout",
     "output_type": "stream",
     "text": [
      "Test code\n"
     ]
    }
   ],
   "source": [
    "# This is a single line comment\n",
    "\n",
    "print(\"Test code\")"
   ]
  },
  {
   "cell_type": "markdown",
   "id": "da8dfeb6-290d-4af1-bb33-b0de3efe8ad1",
   "metadata": {},
   "source": [
    "**Multi line comment**\n",
    "\n",
    "\n",
    "We use multi line comments (\"\"\" or ''') to create comments that span across multiple lines.\n",
    "\n",
    "For example:"
   ]
  },
  {
   "cell_type": "code",
   "execution_count": 5,
   "id": "b02e1a5a-698b-4c2d-a11a-507398aa948c",
   "metadata": {},
   "outputs": [
    {
     "name": "stdout",
     "output_type": "stream",
     "text": [
      "Test code\n"
     ]
    }
   ],
   "source": [
    "\"\"\"\n",
    "This is a multi-line comment.\n",
    "It can span across multiple lines.\n",
    "\"\"\"\n",
    "print(\"Test code\")"
   ]
  },
  {
   "cell_type": "code",
   "execution_count": null,
   "id": "3116ad69-c71d-4039-97c4-13c5472eb34a",
   "metadata": {},
   "outputs": [],
   "source": []
  },
  {
   "cell_type": "markdown",
   "id": "39da1fc7-8d8a-4a9c-bdcc-fba6c66b5a42",
   "metadata": {},
   "source": [
    "**Q2. What are variables in Python? How do you declare and assign values to variables?**"
   ]
  },
  {
   "cell_type": "markdown",
   "id": "a917a364-9b81-4edc-bbcf-6971a9fe81b1",
   "metadata": {},
   "source": [
    "In Python, variables are used to store the  values. It allows you to assign values to a specific name and refer to that value using the variable name throughout your code."
   ]
  },
  {
   "cell_type": "markdown",
   "id": "158a29e0-093b-47ca-8afb-5ae433fd43a4",
   "metadata": {},
   "source": [
    "To declare and assign values to variables in Python, we can use the following syntax:\n",
    "\n",
    "Var_1 = value"
   ]
  },
  {
   "cell_type": "code",
   "execution_count": 7,
   "id": "10e75b44-5447-43b3-8378-dc5c7d9f01c7",
   "metadata": {},
   "outputs": [],
   "source": [
    "#For Example:\n",
    "\n",
    "Name = \"Shrasth\"\n",
    "Age = 26\n",
    "Gender = \"Male\""
   ]
  },
  {
   "cell_type": "markdown",
   "id": "6d4a1f3f-8975-4fed-82f3-47926e191421",
   "metadata": {},
   "source": [
    "Here we have declared three variables Name, Age and Gender and assigned the values Shrasth, 26, Male respectively."
   ]
  },
  {
   "cell_type": "code",
   "execution_count": null,
   "id": "57afbb87-28e9-49d9-8245-f74c7620f3ee",
   "metadata": {},
   "outputs": [],
   "source": []
  },
  {
   "cell_type": "markdown",
   "id": "d36516b9-1a0b-4827-b628-9dfb92dc1bfd",
   "metadata": {},
   "source": [
    "**Q3. How do you convert one data type to another in Python?**"
   ]
  },
  {
   "cell_type": "markdown",
   "id": "e13314a0-9cc7-4968-9693-e75ae46c8708",
   "metadata": {},
   "source": [
    "In Python, we can convert one data type to another using type conversion."
   ]
  },
  {
   "cell_type": "code",
   "execution_count": 9,
   "id": "04b02df9-cca6-4ca0-9993-487f5641681a",
   "metadata": {},
   "outputs": [],
   "source": [
    "#For example:\n",
    "\n",
    "Number = \"123\""
   ]
  },
  {
   "cell_type": "code",
   "execution_count": 10,
   "id": "e021ef26-aa5e-4ea2-8c30-78a8c84e2cde",
   "metadata": {},
   "outputs": [
    {
     "data": {
      "text/plain": [
       "str"
      ]
     },
     "execution_count": 10,
     "metadata": {},
     "output_type": "execute_result"
    }
   ],
   "source": [
    "type(Number)"
   ]
  },
  {
   "cell_type": "code",
   "execution_count": 11,
   "id": "f51716b4-10ec-44c6-bbde-8bb4bfdd9999",
   "metadata": {},
   "outputs": [],
   "source": [
    "Number_1 = int(Number)"
   ]
  },
  {
   "cell_type": "code",
   "execution_count": 12,
   "id": "43bc865d-4f33-45c3-8bc3-0ca2bb15ddb5",
   "metadata": {},
   "outputs": [
    {
     "data": {
      "text/plain": [
       "int"
      ]
     },
     "execution_count": 12,
     "metadata": {},
     "output_type": "execute_result"
    }
   ],
   "source": [
    "type(Number_1)"
   ]
  },
  {
   "cell_type": "markdown",
   "id": "3990c219-faec-4108-b714-f8b5870f3947",
   "metadata": {},
   "source": [
    "In the above example, initally 123 was a str, however using type conversion the str chanaged to int"
   ]
  },
  {
   "cell_type": "code",
   "execution_count": null,
   "id": "e3018520-5e43-4cc9-8562-7281d7062c95",
   "metadata": {},
   "outputs": [],
   "source": []
  },
  {
   "cell_type": "markdown",
   "id": "6ea13157-ce89-4f6a-9e25-02ee91eaf831",
   "metadata": {},
   "source": [
    "**Q4. How do you write and execute a Python script from the command line?**"
   ]
  },
  {
   "cell_type": "markdown",
   "id": "3e62ca82-45a5-4f3c-95a9-bf0456926092",
   "metadata": {},
   "source": [
    "To write and execute a Python script from the command line we can follow the steps mentioned below.\n",
    "\n",
    "1. After writing your code, save the file by .py extension.\n",
    "2. Now, open command prompt and navigate to the directory where you saved your file.\n",
    "3. In the command prompt, type python followed by the name of the file.\n",
    "4. The Python interpreter wille execute the script and the output will be displayed."
   ]
  },
  {
   "cell_type": "code",
   "execution_count": null,
   "id": "02d98949-a87f-4c04-a09d-a9ade6264c7c",
   "metadata": {},
   "outputs": [],
   "source": []
  },
  {
   "cell_type": "markdown",
   "id": "2c5b7905-2929-4389-9b1f-5a377a56de54",
   "metadata": {},
   "source": [
    "**Q5. Given a list my_list = [1, 2, 3, 4, 5], write the code to slice the list and obtain the sub-list [2, 3].**"
   ]
  },
  {
   "cell_type": "code",
   "execution_count": 15,
   "id": "bd6d04fb-eadc-45f9-b365-7e61d52c9b6f",
   "metadata": {},
   "outputs": [],
   "source": [
    "my_list = [1,2,3,4,5]"
   ]
  },
  {
   "cell_type": "code",
   "execution_count": 16,
   "id": "8c2b29cd-e950-4a66-b98d-589958c71ef8",
   "metadata": {},
   "outputs": [
    {
     "data": {
      "text/plain": [
       "[2, 3]"
      ]
     },
     "execution_count": 16,
     "metadata": {},
     "output_type": "execute_result"
    }
   ],
   "source": [
    "my_list[1:3]"
   ]
  },
  {
   "cell_type": "code",
   "execution_count": null,
   "id": "fe5dd2ff-13a0-448a-b9f3-03e3981e928c",
   "metadata": {},
   "outputs": [],
   "source": []
  },
  {
   "cell_type": "markdown",
   "id": "24a496e3-5f34-4186-a46f-067a82347e17",
   "metadata": {},
   "source": [
    "**Q6. What is a complex number in mathematics, and how is it represented in Python?**"
   ]
  },
  {
   "cell_type": "markdown",
   "id": "33aede44-c802-41c8-8540-27b50373b4ab",
   "metadata": {},
   "source": [
    "A complex number is a number which comprises of a real part and an imaginary part. It is written in the form:\n",
    "\n",
    "x + yj\n",
    "\n",
    "where x is real part and y is imaginary part"
   ]
  },
  {
   "cell_type": "code",
   "execution_count": 31,
   "id": "81234df1-a462-43bd-8eb1-77badbd80c2e",
   "metadata": {},
   "outputs": [],
   "source": [
    "#For example:\n",
    "\n",
    "complex_number = 2+7j"
   ]
  },
  {
   "cell_type": "code",
   "execution_count": 32,
   "id": "c472b334-7b6a-4cdb-a3af-f01df85e602f",
   "metadata": {},
   "outputs": [
    {
     "data": {
      "text/plain": [
       "(2+7j)"
      ]
     },
     "execution_count": 32,
     "metadata": {},
     "output_type": "execute_result"
    }
   ],
   "source": [
    "complex_number"
   ]
  },
  {
   "cell_type": "code",
   "execution_count": null,
   "id": "afd169b1-613e-42b2-9319-a668d0ae727f",
   "metadata": {},
   "outputs": [],
   "source": []
  },
  {
   "cell_type": "markdown",
   "id": "90754a1b-cc92-41bc-a25b-46a6bc3dd267",
   "metadata": {},
   "source": [
    "**Q7. What is the correct way to declare a variable named age and assign the value 25 to it?**"
   ]
  },
  {
   "cell_type": "code",
   "execution_count": 17,
   "id": "4a1ea5e3-9d1c-459a-890a-0f9d28899e88",
   "metadata": {},
   "outputs": [],
   "source": [
    "#The correct way:\n",
    "\n",
    "age = 25"
   ]
  },
  {
   "cell_type": "code",
   "execution_count": 18,
   "id": "f79115d6-0874-4840-92cb-f73ae47c6549",
   "metadata": {},
   "outputs": [
    {
     "data": {
      "text/plain": [
       "25"
      ]
     },
     "execution_count": 18,
     "metadata": {},
     "output_type": "execute_result"
    }
   ],
   "source": [
    "age"
   ]
  },
  {
   "cell_type": "code",
   "execution_count": null,
   "id": "933c1e3d-8d33-44fd-a5d8-fee7ffb8175d",
   "metadata": {},
   "outputs": [],
   "source": []
  },
  {
   "cell_type": "markdown",
   "id": "d282a24d-e75e-47ed-85c3-b34ccac489ee",
   "metadata": {},
   "source": [
    "**Q8. Declare a variable named price and assign the value 9.99 to it. What data type does this variable\n",
    "belong to?**"
   ]
  },
  {
   "cell_type": "markdown",
   "id": "db5ad32e-68ff-4de0-b829-2abb5a412bc4",
   "metadata": {},
   "source": [
    "The variable price will have float as the data type."
   ]
  },
  {
   "cell_type": "code",
   "execution_count": 19,
   "id": "0f2e4c15-7d28-4534-bc65-98bc185747fe",
   "metadata": {},
   "outputs": [],
   "source": [
    "price = 9.99"
   ]
  },
  {
   "cell_type": "code",
   "execution_count": 20,
   "id": "2643fdb7-7100-41a9-8d28-13187cc9c5d9",
   "metadata": {},
   "outputs": [
    {
     "data": {
      "text/plain": [
       "float"
      ]
     },
     "execution_count": 20,
     "metadata": {},
     "output_type": "execute_result"
    }
   ],
   "source": [
    "type(price)"
   ]
  },
  {
   "cell_type": "code",
   "execution_count": null,
   "id": "a85907b1-85ca-4155-942e-cf68f555fc26",
   "metadata": {},
   "outputs": [],
   "source": []
  },
  {
   "cell_type": "markdown",
   "id": "f5974c38-2abf-48c2-b55a-6871890a681c",
   "metadata": {},
   "source": [
    "**Q9. Create a variable named name and assign your full name to it as a string. How would you print the\n",
    "value of this variable?**"
   ]
  },
  {
   "cell_type": "code",
   "execution_count": 21,
   "id": "0f1f9749-f303-413f-9bd4-a26c29b05824",
   "metadata": {},
   "outputs": [],
   "source": [
    "name = \"Shrasth Kumar\""
   ]
  },
  {
   "cell_type": "code",
   "execution_count": 23,
   "id": "1067844e-76a4-4624-9d2d-825c5510b21c",
   "metadata": {},
   "outputs": [
    {
     "name": "stdout",
     "output_type": "stream",
     "text": [
      "Shrasth Kumar\n"
     ]
    }
   ],
   "source": [
    "print(name)"
   ]
  },
  {
   "cell_type": "code",
   "execution_count": null,
   "id": "2e473f14-2f17-4995-be50-fdc5875f5095",
   "metadata": {},
   "outputs": [],
   "source": []
  },
  {
   "cell_type": "markdown",
   "id": "c73dc857-59ba-4032-ab57-d977737c4ce6",
   "metadata": {},
   "source": [
    "**Q10. Given the string \"Hello, World!\", extract the substring \"World\".**"
   ]
  },
  {
   "cell_type": "code",
   "execution_count": 24,
   "id": "83966af1-f493-481a-a5e5-db09855b119a",
   "metadata": {},
   "outputs": [],
   "source": [
    "word = \"Hello, World!\""
   ]
  },
  {
   "cell_type": "code",
   "execution_count": 27,
   "id": "003b834c-e183-4ec4-a76d-bdc70466754e",
   "metadata": {},
   "outputs": [
    {
     "data": {
      "text/plain": [
       "'World'"
      ]
     },
     "execution_count": 27,
     "metadata": {},
     "output_type": "execute_result"
    }
   ],
   "source": [
    "word[7:12]"
   ]
  },
  {
   "cell_type": "code",
   "execution_count": null,
   "id": "c18d111f-753b-43c2-af98-64d93dd5fb5f",
   "metadata": {},
   "outputs": [],
   "source": []
  },
  {
   "cell_type": "markdown",
   "id": "9c802f86-4634-4e71-bfc0-2894a8e6a6c0",
   "metadata": {},
   "source": [
    "**Q11. Create a variable named \"is_student\" and assign it a boolean value indicating whether you are\n",
    "currently a student or not.**"
   ]
  },
  {
   "cell_type": "code",
   "execution_count": 28,
   "id": "e6bd6570-83de-4b8b-8247-a58b611eebc4",
   "metadata": {},
   "outputs": [],
   "source": [
    "is_student = False"
   ]
  }
 ],
 "metadata": {
  "kernelspec": {
   "display_name": "Python 3 (ipykernel)",
   "language": "python",
   "name": "python3"
  },
  "language_info": {
   "codemirror_mode": {
    "name": "ipython",
    "version": 3
   },
   "file_extension": ".py",
   "mimetype": "text/x-python",
   "name": "python",
   "nbconvert_exporter": "python",
   "pygments_lexer": "ipython3",
   "version": "3.10.8"
  }
 },
 "nbformat": 4,
 "nbformat_minor": 5
}
